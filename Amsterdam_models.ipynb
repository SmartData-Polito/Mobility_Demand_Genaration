{
 "cells": [
  {
   "cell_type": "code",
   "execution_count": 1,
   "id": "middle-owner",
   "metadata": {},
   "outputs": [],
   "source": [
    "# In order to make this script working is necessary \n",
    "# to have installed the python packages listed below.\n",
    "# In particular for awkde is possible to insall it with:\n",
    "\n",
    "# git clone https://github.com/mennthor/awkde\n",
    "# pip install [--user] [-e] ./awkde\n",
    "\n",
    "# For more details please consult awkde github page at: https://github.com/mennthor/awkde"
   ]
  },
  {
   "cell_type": "code",
   "execution_count": 2,
   "id": "armed-rotation",
   "metadata": {},
   "outputs": [],
   "source": [
    "# Please notice: the dataset attached to this script consist only a subset of the entire dataset. \n",
    "# In particular, weekday 23 time slot.\n",
    "\n",
    "#Also, on this dataset for the seek of brevity are already applied but not reported\n",
    "# all the preprocessing steps including temporal and spatial one, in order to obtain data\n",
    "# ready to be fitted by the model"
   ]
  },
  {
   "cell_type": "code",
   "execution_count": 3,
   "id": "arranged-organization",
   "metadata": {},
   "outputs": [],
   "source": [
    "import pandas as pd\n",
    "import geopandas as gpd\n",
    "import numpy as np\n",
    "from sklearn.neighbors import KernelDensity\n",
    "from sklearn.model_selection import GridSearchCV\n",
    "from awkde import GaussianKDE\n",
    "from copy import deepcopy\n",
    "import pickle"
   ]
  },
  {
   "cell_type": "code",
   "execution_count": 4,
   "id": "stock-lucas",
   "metadata": {},
   "outputs": [],
   "source": [
    "dataset = pd.read_csv('Amsterdam_dataset_WD23.csv')"
   ]
  },
  {
   "cell_type": "code",
   "execution_count": 5,
   "id": "provincial-abortion",
   "metadata": {},
   "outputs": [],
   "source": [
    "# eventhough also WGS84 coordinate system is available, UTM ones are preferred\n",
    "# because it's the best choice to use default euclidean metric distance for GridSearchCV"
   ]
  },
  {
   "cell_type": "code",
   "execution_count": 6,
   "id": "dramatic-dominican",
   "metadata": {},
   "outputs": [],
   "source": [
    "kde_columns_utm_2d = ['start_longitude_utm', 'start_latitude_utm']\n",
    "#start longitude and latitude are used for 2 dimensional KDE\n",
    "#it's also possible to use end point(final destination)\n",
    "# kde_columns_utm_2d = ['end_longitude_utm', 'end_latitude_utm']\n",
    "kde_columns_utm_4d = ['start_longitude_utm', 'start_latitude_utm', 'end_longitude_utm', 'end_latitude_utm']\n",
    "bandwidths_utm = np.geomspace(0.5, 10000, 100)"
   ]
  },
  {
   "cell_type": "code",
   "execution_count": 7,
   "id": "indirect-checklist",
   "metadata": {},
   "outputs": [],
   "source": [
    "#optimal fixed bandwidth reaserarch in two dimensional space\n",
    "for i in range(2):\n",
    "    if i==0:\n",
    "        grid_search_fixedKDE_2D =  GridSearchCV(KernelDensity(kernel='gaussian'),\n",
    "                                    {'bandwidth': bandwidths_utm}, cv=10, n_jobs=-1).fit(dataset[kde_columns_utm_2d].dropna())\n",
    "        log_likelihood_results_fixedKDE_2D = pd.DataFrame(grid_search_fixedKDE_2D.cv_results_['params'])\n",
    "        log_likelihood_results_fixedKDE_2D['mean_likelihood_score'] = grid_search_fixedKDE_2D.cv_results_['mean_test_score']\n",
    "        best_bw = grid_search_fixedKDE_2D.best_params_['bandwidth']\n",
    "    else:\n",
    "        grid_search_fixedKDE_2D =  GridSearchCV(KernelDensity(kernel='gaussian'),\n",
    "                                    {'bandwidth': np.linspace(best_bw/2, best_bw*1.5, 50)}, cv=10, n_jobs=-1).fit(dataset[kde_columns_utm_2d].dropna())"
   ]
  },
  {
   "cell_type": "code",
   "execution_count": 8,
   "id": "accomplished-sweden",
   "metadata": {},
   "outputs": [
    {
     "data": {
      "text/plain": [
       "69.3198998416634"
      ]
     },
     "execution_count": 8,
     "metadata": {},
     "output_type": "execute_result"
    }
   ],
   "source": [
    "grid_search_fixedKDE_2D.best_params_['bandwidth']"
   ]
  },
  {
   "cell_type": "code",
   "execution_count": 9,
   "id": "chief-watershed",
   "metadata": {},
   "outputs": [],
   "source": [
    "#it's now possible to fit a 2D fixed KDE with the optimal bandwidth\n",
    "fixedKDE_2D = KernelDensity(kernel='gaussian',bandwidth=grid_search_fixedKDE_2D.best_params_['bandwidth']).fit(\n",
    "    dataset[kde_columns_utm_2d])"
   ]
  },
  {
   "cell_type": "code",
   "execution_count": 10,
   "id": "injured-gabriel",
   "metadata": {},
   "outputs": [],
   "source": [
    "#optimal fixed bandwidth reaserarch in four dimensional space\n",
    "for i in range(2):\n",
    "    if i==0:\n",
    "        grid_search_fixedKDE_4D =  GridSearchCV(KernelDensity(kernel='gaussian'),\n",
    "                                    {'bandwidth': bandwidths_utm}, cv=10, n_jobs=-1).fit(dataset[kde_columns_utm_4d].dropna())\n",
    "        log_likelihood_results_fixedKDE_4D = pd.DataFrame(grid_search_fixedKDE_4D.cv_results_['params'])\n",
    "        log_likelihood_results_fixedKDE_4D['mean_likelihood_score'] = grid_search_fixedKDE_4D.cv_results_['mean_test_score']\n",
    "        best_bw = grid_search_fixedKDE_4D.best_params_['bandwidth']\n",
    "    else:\n",
    "        grid_search_fixedKDE_4D =  GridSearchCV(KernelDensity(kernel='gaussian'),\n",
    "                                    {'bandwidth': np.linspace(best_bw/2, best_bw*1.5, 50)}, cv=10, n_jobs=-1).fit(dataset[kde_columns_utm_4d].dropna())"
   ]
  },
  {
   "cell_type": "code",
   "execution_count": 11,
   "id": "cooked-assembly",
   "metadata": {},
   "outputs": [],
   "source": [
    "#it's now possible to fit a 4D fixed KDE with the optimal bandwidth\n",
    "fixedKDE_4D = KernelDensity(kernel='gaussian',bandwidth=grid_search_fixedKDE_4D.best_params_['bandwidth']).fit(\n",
    "    dataset[kde_columns_utm_4d])"
   ]
  },
  {
   "cell_type": "code",
   "execution_count": 12,
   "id": "necessary-adobe",
   "metadata": {},
   "outputs": [],
   "source": [
    "######################################################################\n",
    "#                  VARIABLE BANDWIDTH (ADAPTIVE) KDE                 #\n",
    "######################################################################"
   ]
  },
  {
   "cell_type": "code",
   "execution_count": 13,
   "id": "agricultural-civilization",
   "metadata": {},
   "outputs": [],
   "source": [
    "# since the AwKDE package applies a transformation on the input data\n",
    "# in order to return a sample space with zero mean vector an\n",
    "# identity covariance matrix. As also the bandwidth has to be scaled\n",
    "# therefore for the global_bw research we start from the optimal founded with\n",
    "# scikit-learn library and divide it for the sample's average standard deviation in\n",
    "#diffent dimensions."
   ]
  },
  {
   "cell_type": "code",
   "execution_count": 14,
   "id": "expressed-terrain",
   "metadata": {},
   "outputs": [],
   "source": [
    "average_std = np.sqrt(np.sum([np.power(dataset['start_longitude_utm'].std(),2),\n",
    "                              np.power(dataset['start_latitude_utm'].std(),2)])/2)"
   ]
  },
  {
   "cell_type": "code",
   "execution_count": 15,
   "id": "banner-desert",
   "metadata": {},
   "outputs": [],
   "source": [
    "global_bw_std = grid_search_fixedKDE_2D.best_params_['bandwidth']/average_std\n",
    "global_bw_ranges = np.linspace(global_bw_std/2, global_bw_std*2, 100)"
   ]
  },
  {
   "cell_type": "code",
   "execution_count": 16,
   "id": "hollow-justice",
   "metadata": {},
   "outputs": [],
   "source": [
    "#it's possible to find the optimal global_bw with alpha=0.5 according \n",
    "# to silverman law"
   ]
  },
  {
   "cell_type": "code",
   "execution_count": 17,
   "id": "committed-buffer",
   "metadata": {},
   "outputs": [],
   "source": [
    "grid_search_2D_VKDE_alpha05 = GridSearchCV(GaussianKDE(diag_cov=False, alpha=0.5),\n",
    "                                                        {'glob_bw': global_bw_ranges},\n",
    "                                                      cv=10, n_jobs=-1).fit(dataset[kde_columns_utm_2d].dropna())"
   ]
  },
  {
   "cell_type": "code",
   "execution_count": 18,
   "id": "falling-metallic",
   "metadata": {},
   "outputs": [
    {
     "data": {
      "text/plain": [
       "(start_longitude_utm    121281.052258\n",
       " start_latitude_utm     486308.476715\n",
       " dtype: float64,\n",
       " array([[4540596.36230133, -872761.05464593],\n",
       "        [-872761.05464593, 3492468.5075601 ]]))"
      ]
     },
     "execution_count": 18,
     "metadata": {},
     "output_type": "execute_result"
    }
   ],
   "source": [
    "VKDE_2D_alpha05 = GaussianKDE(alpha=0.5, \n",
    "                              glob_bw=grid_search_2D_VKDE_alpha05.best_params_['glob_bw'])\n",
    "VKDE_2D_alpha05.fit(dataset[kde_columns_utm_2d])"
   ]
  },
  {
   "cell_type": "code",
   "execution_count": 19,
   "id": "successful-afghanistan",
   "metadata": {},
   "outputs": [],
   "source": [
    "# or instead is possible to perform a cross validation  \n",
    "# with both glob_bw and alpha hyperparamters"
   ]
  },
  {
   "cell_type": "code",
   "execution_count": 20,
   "id": "exclusive-cattle",
   "metadata": {},
   "outputs": [],
   "source": [
    "grid_search_2D_VKDE = GridSearchCV(GaussianKDE(diag_cov=False),\n",
    "                                                        {'glob_bw': global_bw_ranges,\n",
    "                                                        'alpha':[None, 0.1, 0.2,0.3,0.4,0.5,0.6,0.7,0.8,0.9]},\n",
    "                                                      cv=10, n_jobs=-1).fit(dataset[kde_columns_utm_2d].dropna())"
   ]
  },
  {
   "cell_type": "code",
   "execution_count": 21,
   "id": "abroad-accountability",
   "metadata": {},
   "outputs": [
    {
     "data": {
      "text/plain": [
       "(start_longitude_utm    121281.052258\n",
       " start_latitude_utm     486308.476715\n",
       " dtype: float64,\n",
       " array([[4540596.36230133, -872761.05464593],\n",
       "        [-872761.05464593, 3492468.5075601 ]]))"
      ]
     },
     "execution_count": 21,
     "metadata": {},
     "output_type": "execute_result"
    }
   ],
   "source": [
    "VKDE_2D = GaussianKDE(alpha=grid_search_2D_VKDE.best_params_['alpha'], \n",
    "                      glob_bw=grid_search_2D_VKDE.best_params_['glob_bw'])\n",
    "VKDE_2D.fit(dataset[kde_columns_utm_2d])"
   ]
  },
  {
   "cell_type": "code",
   "execution_count": 22,
   "id": "bacterial-pastor",
   "metadata": {},
   "outputs": [],
   "source": [
    "#################################################\n",
    "#the same can be replicated in four dimensions\n",
    "#################################################"
   ]
  },
  {
   "cell_type": "code",
   "execution_count": 23,
   "id": "unnecessary-collins",
   "metadata": {},
   "outputs": [
    {
     "name": "stderr",
     "output_type": "stream",
     "text": [
      "/opt/anaconda3/envs/bigdatalab_cpu_202101/lib/python3.7/site-packages/sklearn/model_selection/_search.py:814: RuntimeWarning: invalid value encountered in subtract\n",
      "  array_means[:, np.newaxis]) ** 2,\n"
     ]
    }
   ],
   "source": [
    "grid_search_4D_VKDE_alpha05 = GridSearchCV(GaussianKDE(diag_cov=False, alpha=0.5),\n",
    "                                                        {'glob_bw': global_bw_ranges},\n",
    "                                                      cv=10, n_jobs=-1).fit(dataset[kde_columns_utm_4d].dropna())"
   ]
  },
  {
   "cell_type": "code",
   "execution_count": 24,
   "id": "deluxe-destiny",
   "metadata": {},
   "outputs": [
    {
     "data": {
      "text/plain": [
       "(start_longitude_utm    121281.052258\n",
       " start_latitude_utm     486308.476715\n",
       " end_longitude_utm      121662.870993\n",
       " end_latitude_utm       486031.891736\n",
       " dtype: float64,\n",
       " array([[ 4540596.36230133,  -872761.05464593,  1311966.98279999,\n",
       "          -318824.6028541 ],\n",
       "        [ -872761.05464593,  3492468.5075601 ,   -99281.00392884,\n",
       "           417370.99847462],\n",
       "        [ 1311966.98279999,   -99281.00392884,  8993501.90711864,\n",
       "         -1445818.94580842],\n",
       "        [ -318824.6028541 ,   417370.99847462, -1445818.94580842,\n",
       "          5379351.57503014]]))"
      ]
     },
     "execution_count": 24,
     "metadata": {},
     "output_type": "execute_result"
    }
   ],
   "source": [
    "VKDE_4D_alpha05 = GaussianKDE(alpha=0.5, \n",
    "                              glob_bw=grid_search_4D_VKDE_alpha05.best_params_['glob_bw'])\n",
    "VKDE_4D_alpha05.fit(dataset[kde_columns_utm_4d])"
   ]
  },
  {
   "cell_type": "code",
   "execution_count": 25,
   "id": "broken-struggle",
   "metadata": {},
   "outputs": [
    {
     "name": "stderr",
     "output_type": "stream",
     "text": [
      "/opt/anaconda3/envs/bigdatalab_cpu_202101/lib/python3.7/site-packages/sklearn/model_selection/_search.py:814: RuntimeWarning: invalid value encountered in subtract\n",
      "  array_means[:, np.newaxis]) ** 2,\n"
     ]
    }
   ],
   "source": [
    "grid_search_4D_VKDE = GridSearchCV(GaussianKDE(diag_cov=False),\n",
    "                                                        {'glob_bw': global_bw_ranges,\n",
    "                                                        'alpha':[None, 0.1, 0.2,0.3,0.4,0.5,0.6,0.7,0.8,0.9]},\n",
    "                                                      cv=10, n_jobs=-1).fit(dataset[kde_columns_utm_4d].dropna())"
   ]
  },
  {
   "cell_type": "code",
   "execution_count": 26,
   "id": "phantom-shooting",
   "metadata": {},
   "outputs": [
    {
     "data": {
      "text/plain": [
       "(start_longitude_utm    121281.052258\n",
       " start_latitude_utm     486308.476715\n",
       " end_longitude_utm      121662.870993\n",
       " end_latitude_utm       486031.891736\n",
       " dtype: float64,\n",
       " array([[ 4540596.36230133,  -872761.05464593,  1311966.98279999,\n",
       "          -318824.6028541 ],\n",
       "        [ -872761.05464593,  3492468.5075601 ,   -99281.00392884,\n",
       "           417370.99847462],\n",
       "        [ 1311966.98279999,   -99281.00392884,  8993501.90711864,\n",
       "         -1445818.94580842],\n",
       "        [ -318824.6028541 ,   417370.99847462, -1445818.94580842,\n",
       "          5379351.57503014]]))"
      ]
     },
     "execution_count": 26,
     "metadata": {},
     "output_type": "execute_result"
    }
   ],
   "source": [
    "VKDE_4D = GaussianKDE(alpha=grid_search_4D_VKDE.best_params_['alpha'], \n",
    "                      glob_bw=grid_search_4D_VKDE.best_params_['glob_bw'])\n",
    "VKDE_4D.fit(dataset[kde_columns_utm_4d])"
   ]
  },
  {
   "cell_type": "code",
   "execution_count": 27,
   "id": "driving-instrumentation",
   "metadata": {},
   "outputs": [],
   "source": [
    "################################################################################\n",
    "# THE FOLLOWIONG CELLS CONTAIN THE INSTRUCTIONS TO SAMPLE THE DIFFERENT 2D KDES,\n",
    "# IN ORDER TO PRODUCE THE CONTOUR PLOTS IN THE OTHER NOTEBOOK NAMED \"Amsterdam_plots.ipynb\"\n",
    "# FOR DOING THIS, THE SAMPLES ARE SAVED IN .pickle FILES AND MADE AVAILABLE DO BE UPLOADED\n",
    "# AND PLOTTED"
   ]
  },
  {
   "cell_type": "code",
   "execution_count": 28,
   "id": "impressed-butterfly",
   "metadata": {},
   "outputs": [],
   "source": [
    "# perimeter city points in longitude and latitude\n",
    "min_long = 115503.976\n",
    "max_long = 129771.255\n",
    "min_lat = 478827.935\n",
    "max_lat = 492001.720\n",
    "\n",
    "#building a grid of point for sampling the resulting KDEs\n",
    "xx_utm = np.linspace(min_long, max_long, 1000)\n",
    "yy_utm = np.linspace(min_lat, max_lat, 1000)\n",
    "xg_utm, yg_utm = np.meshgrid(xx_utm,yy_utm)\n",
    "grid_coords_utm = np.c_[xg_utm.ravel(), yg_utm.ravel()]"
   ]
  },
  {
   "cell_type": "code",
   "execution_count": 29,
   "id": "recent-japan",
   "metadata": {},
   "outputs": [],
   "source": [
    "samples_fixedKDE_2D = np.exp(fixedKDE_2D.score_samples(grid_coords_utm)).reshape(*xg_utm.shape)"
   ]
  },
  {
   "cell_type": "code",
   "execution_count": 30,
   "id": "tropical-honolulu",
   "metadata": {},
   "outputs": [],
   "source": [
    "pickle.dump(samples_fixedKDE_2D, open('samples_fixed_kde', 'wb'))"
   ]
  },
  {
   "cell_type": "code",
   "execution_count": 31,
   "id": "federal-imperial",
   "metadata": {},
   "outputs": [],
   "source": [
    "samples_VKDE_2D_alpha05 = VKDE_2D_alpha05.predict(grid_coords_utm).reshape(*xg_utm.shape)"
   ]
  },
  {
   "cell_type": "code",
   "execution_count": 32,
   "id": "addressed-lambda",
   "metadata": {},
   "outputs": [],
   "source": [
    "pickle.dump(samples_VKDE_2D_alpha05, open('samples_VKDE_2D_alpha05', 'wb'))"
   ]
  },
  {
   "cell_type": "code",
   "execution_count": 33,
   "id": "bibliographic-happening",
   "metadata": {},
   "outputs": [],
   "source": [
    "samples_VKDE_2D = VKDE_2D.predict(grid_coords_utm).reshape(*xg_utm.shape)"
   ]
  },
  {
   "cell_type": "code",
   "execution_count": 34,
   "id": "undefined-europe",
   "metadata": {},
   "outputs": [],
   "source": [
    "pickle.dump(samples_VKDE_2D, open('samples_VKDE_2D', 'wb'))"
   ]
  },
  {
   "cell_type": "code",
   "execution_count": 35,
   "id": "electric-stevens",
   "metadata": {},
   "outputs": [],
   "source": [
    "# FOR VKDE WITH ALPHA=0.5 WE CALCULATE ALSO THE INCREMENT/DECREMENT OF THE LOCAL BANDWIDTH\n",
    "# WITH RESPECT TO THE GLOBAL BANDWIDTH"
   ]
  },
  {
   "cell_type": "code",
   "execution_count": 36,
   "id": "productive-smoke",
   "metadata": {},
   "outputs": [
    {
     "ename": "NameError",
     "evalue": "name 'dataset_copy' is not defined",
     "output_type": "error",
     "traceback": [
      "\u001b[0;31m---------------------------------------------------------------------------\u001b[0m",
      "\u001b[0;31mNameError\u001b[0m                                 Traceback (most recent call last)",
      "\u001b[0;32m<ipython-input-36-685096aa1e36>\u001b[0m in \u001b[0;36m<module>\u001b[0;34m\u001b[0m\n\u001b[1;32m      1\u001b[0m \u001b[0mscatter_df\u001b[0m \u001b[0;34m=\u001b[0m \u001b[0mdeepcopy\u001b[0m\u001b[0;34m(\u001b[0m\u001b[0mdataset\u001b[0m\u001b[0;34m)\u001b[0m\u001b[0;34m\u001b[0m\u001b[0;34m\u001b[0m\u001b[0m\n\u001b[0;32m----> 2\u001b[0;31m \u001b[0mscatter_df\u001b[0m \u001b[0;34m=\u001b[0m \u001b[0mdataset_copy\u001b[0m\u001b[0;34m[\u001b[0m\u001b[0;34m[\u001b[0m\u001b[0;34m'start_longitude_utm'\u001b[0m\u001b[0;34m,\u001b[0m \u001b[0;34m'start_latitude_utm'\u001b[0m\u001b[0;34m]\u001b[0m\u001b[0;34m]\u001b[0m\u001b[0;34m\u001b[0m\u001b[0;34m\u001b[0m\u001b[0m\n\u001b[0m\u001b[1;32m      3\u001b[0m \u001b[0mglob_bw\u001b[0m \u001b[0;34m=\u001b[0m \u001b[0mVKDE_2D_alpha05\u001b[0m\u001b[0;34m.\u001b[0m\u001b[0m_glob_bw\u001b[0m\u001b[0;34m\u001b[0m\u001b[0;34m\u001b[0m\u001b[0m\n\u001b[1;32m      4\u001b[0m \u001b[0mloc_bws\u001b[0m \u001b[0;34m=\u001b[0m \u001b[0;34m(\u001b[0m\u001b[0;36m1\u001b[0m\u001b[0;34m/\u001b[0m\u001b[0mVKDE_2D_alpha05\u001b[0m\u001b[0;34m.\u001b[0m\u001b[0m_inv_loc_bw\u001b[0m\u001b[0;34m)\u001b[0m\u001b[0;34m*\u001b[0m\u001b[0mglob_bw\u001b[0m\u001b[0;34m\u001b[0m\u001b[0;34m\u001b[0m\u001b[0m\n\u001b[1;32m      5\u001b[0m \u001b[0mscatter_df\u001b[0m\u001b[0;34m.\u001b[0m\u001b[0mloc\u001b[0m\u001b[0;34m[\u001b[0m\u001b[0;34m:\u001b[0m\u001b[0;34m,\u001b[0m\u001b[0;34m'loc_bw'\u001b[0m\u001b[0;34m]\u001b[0m \u001b[0;34m=\u001b[0m \u001b[0mloc_bws\u001b[0m\u001b[0;34m\u001b[0m\u001b[0;34m\u001b[0m\u001b[0m\n",
      "\u001b[0;31mNameError\u001b[0m: name 'dataset_copy' is not defined"
     ]
    }
   ],
   "source": [
    "scatter_df = deepcopy(dataset)\n",
    "scatter_df = scatter_df[['start_longitude_utm', 'start_latitude_utm']]\n",
    "glob_bw = VKDE_2D_alpha05._glob_bw\n",
    "loc_bws = (1/VKDE_2D_alpha05._inv_loc_bw)*glob_bw\n",
    "scatter_df.loc[:,'loc_bw'] = loc_bws\n",
    "scatter_df.loc[:,'inc_dec_perc'] = ((loc_bws-glob_bw)*100)/glob_bw\n",
    "pd.to_pickle(scatter_df, './scatterplot_df')"
   ]
  }
 ],
 "metadata": {
  "kernelspec": {
   "display_name": "Python 3",
   "language": "python",
   "name": "python3"
  },
  "language_info": {
   "codemirror_mode": {
    "name": "ipython",
    "version": 3
   },
   "file_extension": ".py",
   "mimetype": "text/x-python",
   "name": "python",
   "nbconvert_exporter": "python",
   "pygments_lexer": "ipython3",
   "version": "3.7.9"
  }
 },
 "nbformat": 4,
 "nbformat_minor": 5
}
